{
 "cells": [
  {
   "cell_type": "markdown",
   "metadata": {},
   "source": [
    "This script was made based on Tensorflow's tutorial: https://www.tensorflow.org/tutorials/load_data/images"
   ]
  },
  {
   "cell_type": "code",
   "execution_count": 23,
   "metadata": {},
   "outputs": [
    {
     "data": {
      "text/plain": [
       "100"
      ]
     },
     "execution_count": 23,
     "metadata": {},
     "output_type": "execute_result"
    }
   ],
   "source": [
    "# imports\n",
    "\n",
    "from __future__ import absolute_import, division, print_function, unicode_literals\n",
    "import pathlib\n",
    "import random\n",
    "import numpy as np\n",
    "import matplotlib.pyplot as plt\n",
    "import tensorflow as tf\n",
    "\n",
    "tf.enable_eager_execution()  # enables imperative execution without building tensor graphs (debug mode)\n",
    "\n",
    "AUTOTUNE = tf.data.experimental.AUTOTUNE  # an alias to write less\n",
    "EPOCHS = 100\n",
    "IMG_W = 96\n",
    "IMG_H = 96\n",
    "TRAIN_TEST_RATIO = 0.8\n",
    "\n",
    "EPOCHS  # só pra verificar que a execução terminou"
   ]
  },
  {
   "cell_type": "code",
   "execution_count": 24,
   "metadata": {},
   "outputs": [
    {
     "name": "stdout",
     "output_type": "stream",
     "text": [
      "quadros/pop\n",
      "quadros/maneirismo\n",
      "quadros/impressionismo\n",
      "quadros/romantismo\n"
     ]
    }
   ],
   "source": [
    "# scan image paths\n",
    "\n",
    "data_root = pathlib.Path('quadros')\n",
    "all_image_paths = list(data_root.glob('*/*.jpg'))\n",
    "\n",
    "# só pra verificar que a execução terminou\n",
    "for item in data_root.iterdir():\n",
    "  print(item)"
   ]
  },
  {
   "cell_type": "code",
   "execution_count": 25,
   "metadata": {},
   "outputs": [
    {
     "data": {
      "text/plain": [
       "160"
      ]
     },
     "execution_count": 25,
     "metadata": {},
     "output_type": "execute_result"
    }
   ],
   "source": [
    "# count and shuffle\n",
    "\n",
    "all_image_paths = [str(path) for path in all_image_paths]\n",
    "random.shuffle(all_image_paths)\n",
    "\n",
    "image_count = len(all_image_paths)\n",
    "\n",
    "image_count  # só pra verificar que a execução terminou"
   ]
  },
  {
   "cell_type": "code",
   "execution_count": 26,
   "metadata": {},
   "outputs": [
    {
     "name": "stdout",
     "output_type": "stream",
     "text": [
      "['impressionismo', 'maneirismo', 'pop', 'romantismo']\n",
      "First 10 labels indices:  [0, 0, 1, 0, 2, 1, 2, 3, 3, 0]\n"
     ]
    }
   ],
   "source": [
    "# create file->label association\n",
    "\n",
    "# labels are folders\n",
    "label_names = sorted(item.name for item in data_root.glob('*/') if item.is_dir())\n",
    "label_to_index = dict((name, index) for index,name in enumerate(label_names))\n",
    "all_image_labels = [label_to_index[pathlib.Path(path).parent.name] for path in all_image_paths]\n",
    "\n",
    "# só pra verificar que a execução terminou\n",
    "print(label_names)\n",
    "print(\"First 10 labels indices: \", all_image_labels[:10])"
   ]
  },
  {
   "cell_type": "code",
   "execution_count": 27,
   "metadata": {},
   "outputs": [
    {
     "data": {
      "text/plain": [
       "<function __main__.load_and_preprocess_image(path)>"
      ]
     },
     "execution_count": 27,
     "metadata": {},
     "output_type": "execute_result"
    }
   ],
   "source": [
    "# preprocessing and helper methods\n",
    "\n",
    "def preprocess_image(image):\n",
    "  image = tf.image.decode_jpeg(image, channels=3)  #  carrega as imagens pra memória\n",
    "  image = tf.image.resize(image, [IMG_W, IMG_H])  #  redimensiona elas\n",
    "  image = tf.image.rgb_to_grayscale(image)  #  trás pra escala de cinza [W x H x 3] -> [W x H]\n",
    "  image = tf.reshape(image, (9216,))  #  transforma em um vetor\n",
    "  image /= 255.0 # normalize to [0,1] range\n",
    "  return image\n",
    "\n",
    "def load_and_preprocess_image(path):\n",
    "  image = tf.read_file(path)\n",
    "  return preprocess_image(image)\n",
    "\n",
    "# só pra verificar que a execução terminou\n",
    "load_and_preprocess_image"
   ]
  },
  {
   "cell_type": "code",
   "execution_count": 28,
   "metadata": {},
   "outputs": [
    {
     "data": {
      "text/plain": [
       "<DatasetV1Adapter shapes: ((9216,), ()), types: (tf.float32, tf.int64)>"
      ]
     },
     "execution_count": 28,
     "metadata": {},
     "output_type": "execute_result"
    }
   ],
   "source": [
    "# creating tensorflow dataset\n",
    "\n",
    "path_ds = tf.data.Dataset.from_tensor_slices(all_image_paths)\n",
    "# run preprocessing methods\n",
    "image_ds = path_ds.map(load_and_preprocess_image, num_parallel_calls=AUTOTUNE)\n",
    "label_ds = tf.data.Dataset.from_tensor_slices(tf.cast(all_image_labels, tf.int64))\n",
    "# zip images to it's labels (as they have the same order)\n",
    "image_label_ds = tf.data.Dataset.zip((image_ds, label_ds))\n",
    "\n",
    "# só pra verificar que a execução terminou\n",
    "image_label_ds"
   ]
  },
  {
   "cell_type": "code",
   "execution_count": 30,
   "metadata": {},
   "outputs": [
    {
     "data": {
      "text/plain": [
       "128"
      ]
     },
     "execution_count": 30,
     "metadata": {},
     "output_type": "execute_result"
    }
   ],
   "source": [
    "# prepare the dataset to begin training\n",
    "\n",
    "BATCH_SIZE = int(image_count * TRAIN_TEST_RATIO)  # so we can train the entire dataset on every epoch\n",
    "\n",
    "test_dataset = image_label_ds.skip(image_count - BATCH_SIZE) \n",
    "train_dataset = image_label_ds.take(BATCH_SIZE)\n",
    "\n",
    "# setting a shuffle buffer size as large as the dataset ensures that the data is completely shuffled\n",
    "ds = train_dataset.shuffle(buffer_size=BATCH_SIZE)\n",
    "ds = ds.repeat()\n",
    "ds = ds.batch(BATCH_SIZE)\n",
    "# `prefetch` lets the dataset fetch batches, in the background while the model is training\n",
    "ds = ds.prefetch(buffer_size=AUTOTUNE)\n",
    "\n",
    "# setup test dataset\n",
    "tds = train_dataset.shuffle(buffer_size=image_count-BATCH_SIZE)\n",
    "tds = tds.repeat()\n",
    "tds = tds.batch(image_count - BATCH_SIZE)\n",
    "tds = tds.prefetch(buffer_size=AUTOTUNE)\n",
    "\n",
    "# só pra verificar que a execução terminou\n",
    "BATCH_SIZE"
   ]
  },
  {
   "cell_type": "code",
   "execution_count": 33,
   "metadata": {},
   "outputs": [
    {
     "data": {
      "text/plain": [
       "<tensorflow.python.keras.engine.sequential.Sequential at 0x7f0928661f28>"
      ]
     },
     "execution_count": 33,
     "metadata": {},
     "output_type": "execute_result"
    }
   ],
   "source": [
    "# define the model\n",
    "\n",
    "model = tf.keras.Sequential()\n",
    "model.add(tf.keras.layers.Dense(4608, input_dim=9216, activation='relu'))\n",
    "model.add(tf.keras.layers.Dense(4, activation='softmax'))\n",
    "\n",
    "# só pra verificar que a execução terminou\n",
    "model"
   ]
  },
  {
   "cell_type": "code",
   "execution_count": 36,
   "metadata": {},
   "outputs": [
    {
     "name": "stdout",
     "output_type": "stream",
     "text": [
      "_________________________________________________________________\n",
      "Layer (type)                 Output Shape              Param #   \n",
      "=================================================================\n",
      "dense (Dense)                (None, 4608)              42471936  \n",
      "_________________________________________________________________\n",
      "dense_1 (Dense)              (None, 4)                 18436     \n",
      "=================================================================\n",
      "Total params: 42,490,372\n",
      "Trainable params: 42,490,372\n",
      "Non-trainable params: 0\n",
      "_________________________________________________________________\n"
     ]
    }
   ],
   "source": [
    "model.compile(\n",
    "    optimizer = 'rmsprop', \n",
    "    #tf.train.AdamOptimizer\n",
    "    loss = tf.keras.losses.sparse_categorical_crossentropy,\n",
    "    metrics = [\"accuracy\"]\n",
    ")\n",
    "model.summary()"
   ]
  },
  {
   "cell_type": "code",
   "execution_count": 37,
   "metadata": {},
   "outputs": [
    {
     "name": "stdout",
     "output_type": "stream",
     "text": [
      "Epoch 1/100\n",
      "1/1 [==============================] - 5s 5s/step - loss: 1.5040 - acc: 0.3047\n",
      "Epoch 2/100\n",
      "1/1 [==============================] - 0s 91ms/step - loss: 11.9400 - acc: 0.2578\n",
      "Epoch 3/100\n",
      "1/1 [==============================] - 0s 91ms/step - loss: 12.5923 - acc: 0.2188\n",
      "Epoch 4/100\n",
      "1/1 [==============================] - 0s 87ms/step - loss: 12.5923 - acc: 0.2188\n",
      "Epoch 5/100\n",
      "1/1 [==============================] - 0s 84ms/step - loss: 12.5923 - acc: 0.2188\n",
      "Epoch 6/100\n",
      "1/1 [==============================] - 0s 85ms/step - loss: 12.5923 - acc: 0.2188\n",
      "Epoch 7/100\n",
      "1/1 [==============================] - 0s 82ms/step - loss: 12.5923 - acc: 0.2188\n",
      "Epoch 8/100\n",
      "1/1 [==============================] - 0s 82ms/step - loss: 12.5923 - acc: 0.2188\n",
      "Epoch 9/100\n",
      "1/1 [==============================] - 0s 85ms/step - loss: 12.5923 - acc: 0.2188\n",
      "Epoch 10/100\n",
      "1/1 [==============================] - 0s 84ms/step - loss: 12.5923 - acc: 0.2188\n",
      "Epoch 11/100\n",
      "1/1 [==============================] - 0s 85ms/step - loss: 12.5923 - acc: 0.2188\n",
      "Epoch 12/100\n",
      "1/1 [==============================] - 0s 86ms/step - loss: 12.5923 - acc: 0.2188\n",
      "Epoch 13/100\n",
      "1/1 [==============================] - 0s 84ms/step - loss: 12.5923 - acc: 0.2188\n",
      "Epoch 14/100\n",
      "1/1 [==============================] - 0s 83ms/step - loss: 12.5923 - acc: 0.2188\n",
      "Epoch 15/100\n",
      "1/1 [==============================] - 0s 81ms/step - loss: 12.5923 - acc: 0.2188\n",
      "Epoch 16/100\n",
      "1/1 [==============================] - 0s 85ms/step - loss: 12.5923 - acc: 0.2188\n",
      "Epoch 17/100\n",
      "1/1 [==============================] - 0s 83ms/step - loss: 12.5923 - acc: 0.2188\n",
      "Epoch 18/100\n",
      "1/1 [==============================] - 0s 82ms/step - loss: 12.5923 - acc: 0.2188\n",
      "Epoch 19/100\n",
      "1/1 [==============================] - 0s 86ms/step - loss: 12.5923 - acc: 0.2188\n",
      "Epoch 20/100\n",
      "1/1 [==============================] - 0s 84ms/step - loss: 12.5923 - acc: 0.2188\n",
      "Epoch 21/100\n",
      "1/1 [==============================] - 0s 81ms/step - loss: 12.5923 - acc: 0.2188\n",
      "Epoch 22/100\n",
      "1/1 [==============================] - 0s 82ms/step - loss: 12.5923 - acc: 0.2188\n",
      "Epoch 23/100\n",
      "1/1 [==============================] - 0s 83ms/step - loss: 12.5923 - acc: 0.2188\n",
      "Epoch 24/100\n",
      "1/1 [==============================] - 0s 85ms/step - loss: 12.5923 - acc: 0.2188\n",
      "Epoch 25/100\n",
      "1/1 [==============================] - 0s 84ms/step - loss: 12.5923 - acc: 0.2188\n",
      "Epoch 26/100\n",
      "1/1 [==============================] - 0s 82ms/step - loss: 12.5923 - acc: 0.2188\n",
      "Epoch 27/100\n",
      "1/1 [==============================] - 0s 89ms/step - loss: 12.5923 - acc: 0.2188\n",
      "Epoch 28/100\n",
      "1/1 [==============================] - 0s 87ms/step - loss: 12.5923 - acc: 0.2188\n",
      "Epoch 29/100\n",
      "1/1 [==============================] - 0s 84ms/step - loss: 12.5923 - acc: 0.2188\n",
      "Epoch 30/100\n",
      "1/1 [==============================] - 0s 83ms/step - loss: 12.5923 - acc: 0.2188\n",
      "Epoch 31/100\n",
      "1/1 [==============================] - 0s 84ms/step - loss: 12.5923 - acc: 0.2188\n",
      "Epoch 32/100\n",
      "1/1 [==============================] - 0s 91ms/step - loss: 12.5923 - acc: 0.2188\n",
      "Epoch 33/100\n",
      "1/1 [==============================] - 0s 92ms/step - loss: 12.5923 - acc: 0.2188\n",
      "Epoch 34/100\n",
      "1/1 [==============================] - 0s 95ms/step - loss: 12.5923 - acc: 0.2188\n",
      "Epoch 35/100\n",
      "1/1 [==============================] - 0s 86ms/step - loss: 12.5923 - acc: 0.2188\n",
      "Epoch 36/100\n",
      "1/1 [==============================] - 0s 81ms/step - loss: 12.5923 - acc: 0.2188\n",
      "Epoch 37/100\n",
      "1/1 [==============================] - 0s 83ms/step - loss: 12.5923 - acc: 0.2188\n",
      "Epoch 38/100\n",
      "1/1 [==============================] - 0s 81ms/step - loss: 12.5923 - acc: 0.2188\n",
      "Epoch 39/100\n",
      "1/1 [==============================] - 0s 88ms/step - loss: 12.5923 - acc: 0.2188\n",
      "Epoch 40/100\n",
      "1/1 [==============================] - 0s 96ms/step - loss: 12.5923 - acc: 0.2188\n",
      "Epoch 41/100\n",
      "1/1 [==============================] - 0s 99ms/step - loss: 12.5923 - acc: 0.2188\n",
      "Epoch 42/100\n",
      "1/1 [==============================] - 0s 97ms/step - loss: 12.5923 - acc: 0.2188\n",
      "Epoch 43/100\n",
      "1/1 [==============================] - 0s 91ms/step - loss: 12.5923 - acc: 0.2188\n",
      "Epoch 44/100\n",
      "1/1 [==============================] - 0s 82ms/step - loss: 12.5923 - acc: 0.2188\n",
      "Epoch 45/100\n",
      "1/1 [==============================] - 0s 80ms/step - loss: 12.5923 - acc: 0.2188\n",
      "Epoch 46/100\n",
      "1/1 [==============================] - 0s 83ms/step - loss: 12.5923 - acc: 0.2188\n",
      "Epoch 47/100\n",
      "1/1 [==============================] - 0s 83ms/step - loss: 12.5923 - acc: 0.2188\n",
      "Epoch 48/100\n",
      "1/1 [==============================] - 0s 85ms/step - loss: 12.5923 - acc: 0.2188\n",
      "Epoch 49/100\n",
      "1/1 [==============================] - 0s 83ms/step - loss: 12.5923 - acc: 0.2188\n",
      "Epoch 50/100\n",
      "1/1 [==============================] - 0s 83ms/step - loss: 12.5923 - acc: 0.2188\n",
      "Epoch 51/100\n",
      "1/1 [==============================] - 0s 84ms/step - loss: 12.5923 - acc: 0.2188\n",
      "Epoch 52/100\n",
      "1/1 [==============================] - 0s 84ms/step - loss: 12.5923 - acc: 0.2188\n",
      "Epoch 53/100\n",
      "1/1 [==============================] - 0s 84ms/step - loss: 12.5923 - acc: 0.2188\n",
      "Epoch 54/100\n",
      "1/1 [==============================] - 0s 95ms/step - loss: 12.5923 - acc: 0.2188\n",
      "Epoch 55/100\n",
      "1/1 [==============================] - 0s 89ms/step - loss: 12.5923 - acc: 0.2188\n",
      "Epoch 56/100\n",
      "1/1 [==============================] - 0s 84ms/step - loss: 12.5923 - acc: 0.2188\n",
      "Epoch 57/100\n",
      "1/1 [==============================] - 0s 81ms/step - loss: 12.5923 - acc: 0.2188\n",
      "Epoch 58/100\n",
      "1/1 [==============================] - 0s 85ms/step - loss: 12.5923 - acc: 0.2188\n",
      "Epoch 59/100\n",
      "1/1 [==============================] - 0s 83ms/step - loss: 12.5923 - acc: 0.2188\n",
      "Epoch 60/100\n",
      "1/1 [==============================] - 0s 81ms/step - loss: 12.5923 - acc: 0.2188\n",
      "Epoch 61/100\n",
      "1/1 [==============================] - 0s 83ms/step - loss: 12.5923 - acc: 0.2188\n",
      "Epoch 62/100\n",
      "1/1 [==============================] - 0s 82ms/step - loss: 12.5923 - acc: 0.2188\n",
      "Epoch 63/100\n",
      "1/1 [==============================] - 0s 83ms/step - loss: 12.5923 - acc: 0.2188\n",
      "Epoch 64/100\n",
      "1/1 [==============================] - 0s 82ms/step - loss: 12.5923 - acc: 0.2188\n",
      "Epoch 65/100\n",
      "1/1 [==============================] - 0s 81ms/step - loss: 12.5923 - acc: 0.2188\n",
      "Epoch 66/100\n",
      "1/1 [==============================] - 0s 81ms/step - loss: 12.5923 - acc: 0.2188\n",
      "Epoch 67/100\n",
      "1/1 [==============================] - 0s 82ms/step - loss: 12.5923 - acc: 0.2188\n",
      "Epoch 68/100\n",
      "1/1 [==============================] - 0s 84ms/step - loss: 12.5923 - acc: 0.2188\n",
      "Epoch 69/100\n",
      "1/1 [==============================] - 0s 83ms/step - loss: 12.5923 - acc: 0.2188\n",
      "Epoch 70/100\n",
      "1/1 [==============================] - 0s 85ms/step - loss: 12.5923 - acc: 0.2188\n",
      "Epoch 71/100\n",
      "1/1 [==============================] - 0s 83ms/step - loss: 12.5923 - acc: 0.2188\n",
      "Epoch 72/100\n",
      "1/1 [==============================] - 0s 83ms/step - loss: 12.5923 - acc: 0.2188\n",
      "Epoch 73/100\n",
      "1/1 [==============================] - 0s 82ms/step - loss: 12.5923 - acc: 0.2188\n",
      "Epoch 74/100\n",
      "1/1 [==============================] - 0s 83ms/step - loss: 12.5923 - acc: 0.2188\n",
      "Epoch 75/100\n",
      "1/1 [==============================] - 0s 84ms/step - loss: 12.5923 - acc: 0.2188\n",
      "Epoch 76/100\n",
      "1/1 [==============================] - 0s 82ms/step - loss: 12.5923 - acc: 0.2188\n",
      "Epoch 77/100\n",
      "1/1 [==============================] - 0s 87ms/step - loss: 12.5923 - acc: 0.2188\n",
      "Epoch 78/100\n",
      "1/1 [==============================] - 0s 82ms/step - loss: 12.5923 - acc: 0.2188\n",
      "Epoch 79/100\n",
      "1/1 [==============================] - 0s 86ms/step - loss: 12.5923 - acc: 0.2188\n",
      "Epoch 80/100\n",
      "1/1 [==============================] - 0s 83ms/step - loss: 12.5923 - acc: 0.2188\n",
      "Epoch 81/100\n",
      "1/1 [==============================] - 0s 82ms/step - loss: 12.5923 - acc: 0.2188\n",
      "Epoch 82/100\n",
      "1/1 [==============================] - 0s 82ms/step - loss: 12.5923 - acc: 0.2188\n",
      "Epoch 83/100\n",
      "1/1 [==============================] - 0s 82ms/step - loss: 12.5923 - acc: 0.2188\n",
      "Epoch 84/100\n",
      "1/1 [==============================] - 0s 83ms/step - loss: 12.5923 - acc: 0.2188\n",
      "Epoch 85/100\n",
      "1/1 [==============================] - 0s 83ms/step - loss: 12.5923 - acc: 0.2188\n",
      "Epoch 86/100\n",
      "1/1 [==============================] - 0s 83ms/step - loss: 12.5923 - acc: 0.2188\n",
      "Epoch 87/100\n",
      "1/1 [==============================] - 0s 84ms/step - loss: 12.5923 - acc: 0.2188\n"
     ]
    },
    {
     "name": "stdout",
     "output_type": "stream",
     "text": [
      "Epoch 88/100\n",
      "1/1 [==============================] - 0s 84ms/step - loss: 12.5923 - acc: 0.2188\n",
      "Epoch 89/100\n",
      "1/1 [==============================] - 0s 83ms/step - loss: 12.5923 - acc: 0.2188\n",
      "Epoch 90/100\n",
      "1/1 [==============================] - 0s 88ms/step - loss: 12.5923 - acc: 0.2188\n",
      "Epoch 91/100\n",
      "1/1 [==============================] - 0s 89ms/step - loss: 12.5923 - acc: 0.2188\n",
      "Epoch 92/100\n",
      "1/1 [==============================] - 0s 82ms/step - loss: 12.5923 - acc: 0.2188\n",
      "Epoch 93/100\n",
      "1/1 [==============================] - 0s 81ms/step - loss: 12.5923 - acc: 0.2188\n",
      "Epoch 94/100\n",
      "1/1 [==============================] - 0s 83ms/step - loss: 12.5923 - acc: 0.2188\n",
      "Epoch 95/100\n",
      "1/1 [==============================] - 0s 89ms/step - loss: 12.5923 - acc: 0.2188\n",
      "Epoch 96/100\n",
      "1/1 [==============================] - 0s 83ms/step - loss: 12.5923 - acc: 0.2188\n",
      "Epoch 97/100\n",
      "1/1 [==============================] - 0s 84ms/step - loss: 12.5923 - acc: 0.2188\n",
      "Epoch 98/100\n",
      "1/1 [==============================] - 0s 84ms/step - loss: 12.5923 - acc: 0.2188\n",
      "Epoch 99/100\n",
      "1/1 [==============================] - 0s 89ms/step - loss: 12.5923 - acc: 0.2188\n",
      "Epoch 100/100\n",
      "1/1 [==============================] - 0s 81ms/step - loss: 12.5923 - acc: 0.2188\n"
     ]
    }
   ],
   "source": [
    "# train the model\n",
    "H = model.fit(\n",
    "    ds,  # the dataset\n",
    "    epochs=EPOCHS,  # number of times to loop on this dataset\n",
    "    steps_per_epoch=int(len(all_image_paths)/BATCH_SIZE),  # how many samples to take from this ds\n",
    ")"
   ]
  },
  {
   "cell_type": "code",
   "execution_count": 38,
   "metadata": {},
   "outputs": [
    {
     "name": "stdout",
     "output_type": "stream",
     "text": [
      "32/32 [==============================] - 0s 11ms/step - loss: 12.5923 - acc: 0.2188\n",
      "Test loss: 12.592262119054794\n",
      "Test accuracy: 0.21875\n"
     ]
    }
   ],
   "source": [
    "score = model.evaluate(tds, verbose=1, steps=int(image_count - BATCH_SIZE))\n",
    "print('Test loss:', score[0])\n",
    "print('Test accuracy:', score[1])"
   ]
  },
  {
   "cell_type": "code",
   "execution_count": 39,
   "metadata": {},
   "outputs": [
    {
     "data": {
      "image/png": "[encoded data removed]",
      "text/plain": [
       "<Figure size 432x288 with 1 Axes>"
      ]
     },
     "metadata": {
      "needs_background": "light"
     },
     "output_type": "display_data"
    }
   ],
   "source": [
    "# plot statistics\n",
    "\n",
    "plt.figure()\n",
    "plt.plot(np.arange(0, EPOCHS), H.history[\"loss\"], label=\"train_loss\")\n",
    "plt.plot(np.arange(0, EPOCHS), H.history[\"acc\"], label=\"train_acc\")\n",
    "# plt.plot(np.arange(0, EPOCHS), H.history[\"val_acc\"], label=\"val_acc\")\n",
    "# plt.plot(np.arange(0, EPOCHS), H.history[\"val_loss\"], label=\"val_loss\")\n",
    "plt.title(\"Accuracy\")\n",
    "plt.xlabel(\"Epochs\")\n",
    "plt.ylabel(\"Loss/Accuracy\")\n",
    "plt.legend()\n",
    "plt.show()"
   ]
  },
  {
   "cell_type": "code",
   "execution_count": null,
   "metadata": {},
   "outputs": [],
   "source": []
  }
 ],
 "metadata": {
  "kernelspec": {
   "display_name": "Python 3",
   "language": "python",
   "name": "python3"
  },
  "language_info": {
   "codemirror_mode": {
    "name": "ipython",
    "version": 3
   },
   "file_extension": ".py",
   "mimetype": "text/x-python",
   "name": "python",
   "nbconvert_exporter": "python",
   "pygments_lexer": "ipython3",
   "version": "3.7.3"
  }
 },
 "nbformat": 4,
 "nbformat_minor": 2
}
